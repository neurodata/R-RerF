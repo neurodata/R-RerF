{
 "cells": [
  {
   "cell_type": "markdown",
   "metadata": {},
   "source": [
    "# Test perfect training accuracy on iris "
   ]
  },
  {
   "cell_type": "code",
   "execution_count": 3,
   "metadata": {},
   "outputs": [],
   "source": [
    "import math\n",
    "\n",
    "from rerf.rerfClassifier import rerfClassifier\n",
    "\n",
    "# Import scikit-learn dataset library\n",
    "from sklearn import datasets\n",
    "\n",
    "# Import scikit-learn metrics module for accuracy calculation\n",
    "from sklearn import metrics\n",
    "\n",
    "# https://docs.scipy.org/doc/scipy/reference/generated/scipy.stats.wilcoxon.html\n",
    "from scipy.stats import wilcoxon\n",
    "\n",
    "# testing sklearn random forest\n",
    "from sklearn.ensemble import RandomForestClassifier\n",
    "\n",
    "from tqdm import tqdm"
   ]
  },
  {
   "cell_type": "code",
   "execution_count": 4,
   "metadata": {},
   "outputs": [],
   "source": [
    "# Load dataset\n",
    "iris = datasets.load_iris()"
   ]
  },
  {
   "cell_type": "code",
   "execution_count": 5,
   "metadata": {},
   "outputs": [],
   "source": [
    "def iris_pred_acc(cls, n_iter=10000):\n",
    "    y_train_acc_list = []\n",
    "    for i in tqdm(range(n_iter)):\n",
    "        clf.fit(iris.data, iris.target)\n",
    "        y_pred_train = clf.predict(iris.data)\n",
    "        y_train_acc_list.append(metrics.accuracy_score(iris.target, y_pred_train))\n",
    "        \n",
    "    return y_train_acc_list "
   ]
  },
  {
   "cell_type": "code",
   "execution_count": 6,
   "metadata": {},
   "outputs": [],
   "source": [
    "def print_pred_summ(acc_list):\n",
    "    print(sum([math.isclose(yt, 1) for yt in acc_list]))\n",
    "    # print(\"avg acc\", sum(y_train_acc_list)/len(y_train_acc_list))\n",
    "    print(sorted(acc_list)[0:5])"
   ]
  },
  {
   "cell_type": "code",
   "execution_count": 8,
   "metadata": {},
   "outputs": [
    {
     "name": "stderr",
     "output_type": "stream",
     "text": [
      "100%|██████████| 10000/10000 [01:18<00:00, 127.03it/s]\n",
      "  0%|          | 38/10000 [00:00<00:52, 188.92it/s]"
     ]
    },
    {
     "name": "stdout",
     "output_type": "stream",
     "text": [
      "RerF\n",
      "10000\n",
      "[1.0, 1.0, 1.0, 1.0, 1.0]\n"
     ]
    },
    {
     "name": "stderr",
     "output_type": "stream",
     "text": [
      "100%|██████████| 10000/10000 [00:53<00:00, 185.46it/s]\n",
      "  0%|          | 2/10000 [00:00<10:49, 15.39it/s]"
     ]
    },
    {
     "name": "stdout",
     "output_type": "stream",
     "text": [
      "RF\n",
      "9962\n",
      "[0.9933333333333333, 0.9933333333333333, 0.9933333333333333, 0.9933333333333333, 0.9933333333333333]\n"
     ]
    },
    {
     "name": "stderr",
     "output_type": "stream",
     "text": [
      "100%|██████████| 10000/10000 [10:42<00:00, 15.64it/s]"
     ]
    },
    {
     "name": "stdout",
     "output_type": "stream",
     "text": [
      "sklearn\n",
      "9982\n",
      "[0.9933333333333333, 0.9933333333333333, 0.9933333333333333, 0.9933333333333333, 0.9933333333333333]\n"
     ]
    },
    {
     "name": "stderr",
     "output_type": "stream",
     "text": [
      "\n"
     ]
    }
   ],
   "source": [
    "clf = rerfClassifier(n_estimators=100, projection_matrix=\"RerF\")\n",
    "rerf_acc = iris_pred_acc(clf, 10000)\n",
    "print(\"RerF\")\n",
    "print_pred_summ(rerf_acc)\n",
    "\n",
    "clf = rerfClassifier(n_estimators=100, projection_matrix=\"Base\")\n",
    "rf_acc = iris_pred_acc(clf, 10000)\n",
    "print(\"RF\")\n",
    "print_pred_summ(rf_acc)\n",
    "\n",
    "clf = RandomForestClassifier(n_estimators=100)\n",
    "sklearn_acc = iris_pred_acc(clf, 10000)\n",
    "print(\"sklearn\")\n",
    "print_pred_summ(sklearn_acc)"
   ]
  },
  {
   "cell_type": "code",
   "execution_count": 13,
   "metadata": {},
   "outputs": [
    {
     "name": "stdout",
     "output_type": "stream",
     "text": [
      "WilcoxonResult(statistic=0.0, pvalue=7.074463098970675e-10)\n",
      "WilcoxonResult(statistic=0.0, pvalue=2.209049699858536e-05)\n",
      "WilcoxonResult(statistic=513.0, pvalue=0.007526315166457887)\n",
      "WilcoxonResult(statistic=0.0, pvalue=7.74421643104407e-06)\n"
     ]
    }
   ],
   "source": [
    "print(wilcoxon(rerf_acc, rf_acc))\n",
    "print(wilcoxon(rerf_acc, sklearn_acc))\n",
    "print(wilcoxon(rf_acc, sklearn_acc))\n",
    "print(wilcoxon(sorted(rf_acc), sorted(sklearn_acc)))"
   ]
  }
 ],
 "metadata": {
  "kernelspec": {
   "display_name": "Python 3",
   "language": "python",
   "name": "python3"
  },
  "language_info": {
   "codemirror_mode": {
    "name": "ipython",
    "version": 3
   },
   "file_extension": ".py",
   "mimetype": "text/x-python",
   "name": "python",
   "nbconvert_exporter": "python",
   "pygments_lexer": "ipython3",
   "version": "3.7.3"
  }
 },
 "nbformat": 4,
 "nbformat_minor": 2
}
