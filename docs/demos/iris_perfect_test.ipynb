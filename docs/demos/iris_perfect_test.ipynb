{
 "cells": [
  {
   "cell_type": "markdown",
   "metadata": {},
   "source": [
    "# Test perfect training accuracy on iris "
   ]
  },
  {
   "cell_type": "code",
   "execution_count": 1,
   "metadata": {},
   "outputs": [],
   "source": [
    "import math\n",
    "\n",
    "from rerf.rerfClassifier import rerfClassifier\n",
    "\n",
    "# Import scikit-learn dataset library\n",
    "from sklearn import datasets\n",
    "\n",
    "# Import scikit-learn metrics module for accuracy calculation\n",
    "from sklearn import metrics\n",
    "\n",
    "# https://docs.scipy.org/doc/scipy/reference/generated/scipy.stats.wilcoxon.html\n",
    "from scipy.stats import mannwhitneyu\n",
    "\n",
    "# testing sklearn random forest\n",
    "from sklearn.ensemble import RandomForestClassifier\n",
    "\n",
    "from tqdm import tqdm"
   ]
  },
  {
   "cell_type": "code",
   "execution_count": 2,
   "metadata": {},
   "outputs": [],
   "source": [
    "# Load dataset\n",
    "iris = datasets.load_iris()"
   ]
  },
  {
   "cell_type": "code",
   "execution_count": 3,
   "metadata": {},
   "outputs": [],
   "source": [
    "def iris_pred_acc(cls, n_iter=10000):\n",
    "    y_train_acc_list = []\n",
    "    for i in tqdm(range(n_iter)):\n",
    "        clf.fit(iris.data, iris.target)\n",
    "        y_pred_train = clf.predict(iris.data)\n",
    "        y_train_acc_list.append(metrics.accuracy_score(iris.target, y_pred_train))\n",
    "        \n",
    "    return y_train_acc_list "
   ]
  },
  {
   "cell_type": "code",
   "execution_count": 4,
   "metadata": {},
   "outputs": [],
   "source": [
    "def print_pred_summ(acc_list):\n",
    "    print(sum([math.isclose(yt, 1) for yt in acc_list]))\n",
    "    # print(\"avg acc\", sum(y_train_acc_list)/len(y_train_acc_list))\n",
    "    print(sorted(acc_list)[0:5])"
   ]
  },
  {
   "cell_type": "code",
   "execution_count": 5,
   "metadata": {},
   "outputs": [
    {
     "name": "stderr",
     "output_type": "stream",
     "text": [
      "100%|██████████| 10000/10000 [01:25<00:00, 117.23it/s]\n",
      "  0%|          | 18/10000 [00:00<00:58, 171.45it/s]"
     ]
    },
    {
     "name": "stdout",
     "output_type": "stream",
     "text": [
      "RerF\n",
      "9997\n",
      "[0.9933333333333333, 0.9933333333333333, 0.9933333333333333, 1.0, 1.0]\n"
     ]
    },
    {
     "name": "stderr",
     "output_type": "stream",
     "text": [
      "100%|██████████| 10000/10000 [00:57<00:00, 174.98it/s]\n",
      "  0%|          | 2/10000 [00:00<09:54, 16.81it/s]"
     ]
    },
    {
     "name": "stdout",
     "output_type": "stream",
     "text": [
      "RF\n",
      "9966\n",
      "[0.9933333333333333, 0.9933333333333333, 0.9933333333333333, 0.9933333333333333, 0.9933333333333333]\n"
     ]
    },
    {
     "name": "stderr",
     "output_type": "stream",
     "text": [
      "100%|██████████| 10000/10000 [09:06<00:00, 17.39it/s]"
     ]
    },
    {
     "name": "stdout",
     "output_type": "stream",
     "text": [
      "sklearn\n",
      "9972\n",
      "[0.9933333333333333, 0.9933333333333333, 0.9933333333333333, 0.9933333333333333, 0.9933333333333333]\n"
     ]
    },
    {
     "name": "stderr",
     "output_type": "stream",
     "text": [
      "\n"
     ]
    }
   ],
   "source": [
    "clf = rerfClassifier(n_estimators=100, projection_matrix=\"RerF\")\n",
    "rerf_acc = iris_pred_acc(clf, 10000)\n",
    "print(\"RerF\")\n",
    "print_pred_summ(rerf_acc)\n",
    "\n",
    "clf = rerfClassifier(n_estimators=100, projection_matrix=\"Base\")\n",
    "rf_acc = iris_pred_acc(clf, 10000)\n",
    "print(\"RF\")\n",
    "print_pred_summ(rf_acc)\n",
    "\n",
    "clf = RandomForestClassifier(n_estimators=100)\n",
    "sklearn_acc = iris_pred_acc(clf, 10000)\n",
    "print(\"sklearn\")\n",
    "print_pred_summ(sklearn_acc)"
   ]
  },
  {
   "cell_type": "code",
   "execution_count": 9,
   "metadata": {},
   "outputs": [],
   "source": [
    "def two_sided_mannwhitneyu(x,y):\n",
    "    u, prob_one_sided = mannwhitneyu(x, y, use_continuity=False)\n",
    "    prob = prob_one_sided*2\n",
    "\n",
    "    return u, prob"
   ]
  },
  {
   "cell_type": "code",
   "execution_count": 10,
   "metadata": {},
   "outputs": [
    {
     "name": "stdout",
     "output_type": "stream",
     "text": [
      "RerF vs. RF:      p=0.000000337931825\n",
      "RerF vs. sklearn: p=0.000007006066792\n",
      "RF vs. sklearn:   p=0.445364679299948\n"
     ]
    }
   ],
   "source": [
    "_, prob_rerf_rf = two_sided_mannwhitneyu(rerf_acc, rf_acc)\n",
    "_, prob_rerf_sklearn = two_sided_mannwhitneyu(rerf_acc, sklearn_acc)\n",
    "_, prob_rf_sklearn = two_sided_mannwhitneyu(rf_acc, sklearn_acc)\n",
    "\n",
    "print(f\"RerF vs. RF:      p={prob_rerf_rf:0.15f}\")\n",
    "print(f\"RerF vs. sklearn: p={prob_rerf_sklearn:0.15f}\")\n",
    "print(f\"RF vs. sklearn:   p={prob_rf_sklearn:0.15f}\")"
   ]
  }
 ],
 "metadata": {
  "kernelspec": {
   "display_name": "Python 3",
   "language": "python",
   "name": "python3"
  },
  "language_info": {
   "codemirror_mode": {
    "name": "ipython",
    "version": 3
   },
   "file_extension": ".py",
   "mimetype": "text/x-python",
   "name": "python",
   "nbconvert_exporter": "python",
   "pygments_lexer": "ipython3",
   "version": "3.7.3"
  }
 },
 "nbformat": 4,
 "nbformat_minor": 2
}
