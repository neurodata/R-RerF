{
 "cells": [
  {
   "cell_type": "markdown",
   "metadata": {},
   "source": [
    "\n",
    "# Recognizing hand-written digits using Structured RerF\n",
    "\n",
    "\n",
    "An example showing how the scikit-learn can be used to recognize images of\n",
    "hand-written digits.\n",
    "\n",
    "This was adapted from: https://scikit-learn.org/stable/auto_examples/classification/plot_digits_classification.html"
   ]
  },
  {
   "cell_type": "code",
   "execution_count": 1,
   "metadata": {},
   "outputs": [
    {
     "name": "stdout",
     "output_type": "stream",
     "text": [
      "Automatically created module for IPython interactive environment\n"
     ]
    },
    {
     "data": {
      "image/png": "[encoded data removed]",
      "text/plain": [
       "<Figure size 432x288 with 4 Axes>"
      ]
     },
     "metadata": {
      "needs_background": "light"
     },
     "output_type": "display_data"
    }
   ],
   "source": [
    "%matplotlib inline\n",
    "\n",
    "print(__doc__)\n",
    "\n",
    "# Author: Gael Varoquaux <gael dot varoquaux at normalesup dot org>\n",
    "# License: BSD 3 clause\n",
    "\n",
    "# Standard scientific Python imports\n",
    "import matplotlib.pyplot as plt\n",
    "\n",
    "# Import datasets, classifiers and performance metrics\n",
    "from sklearn import datasets,  metrics\n",
    "\n",
    "# The digits dataset\n",
    "digits = datasets.load_digits()\n",
    "\n",
    "# The data that we are interested in is made of 8x8 images of digits, let's\n",
    "# have a look at the first 4 images, stored in the `images` attribute of the\n",
    "# dataset.  If we were working from image files, we could load them using\n",
    "# matplotlib.pyplot.imread.  Note that each image must have the same size. For these\n",
    "# images, we know which digit they represent: it is given in the 'target' of\n",
    "# the dataset.\n",
    "images_and_labels = list(zip(digits.images, digits.target))\n",
    "for index, (image, label) in enumerate(images_and_labels[:4]):\n",
    "    plt.subplot(2, 4, index + 1)\n",
    "    plt.axis('off')\n",
    "    plt.imshow(image, cmap=plt.cm.gray_r, interpolation='nearest')\n",
    "    plt.title('Training: %i' % label)\n",
    "\n",
    "# To apply a classifier on this data, we need to flatten the image, to\n",
    "# turn the data in a (samples, feature) matrix:\n",
    "n_samples = len(digits.images)\n",
    "data = digits.images.reshape((n_samples, -1))\n",
    "\n"
   ]
  },
  {
   "cell_type": "code",
   "execution_count": 2,
   "metadata": {},
   "outputs": [
    {
     "data": {
      "text/plain": [
       "rerfClassifier(feature_combinations=1.5, image_height=8, image_width=8,\n",
       "               max_depth=None, max_features='auto', min_parent=1,\n",
       "               n_estimators=100, n_jobs=None, patch_height_max=None,\n",
       "               patch_height_min=1, patch_width_max=None, patch_width_min=1,\n",
       "               projection_matrix='S-RerF', random_state=None)"
      ]
     },
     "execution_count": 2,
     "metadata": {},
     "output_type": "execute_result"
    }
   ],
   "source": [
    "from rerf.rerfClassifier import rerfClassifier\n",
    "\n",
    "# Create a classifier: Structured RerF\n",
    "clf = rerfClassifier(projection_matrix=\"S-RerF\", \n",
    "                            image_height=8,\n",
    "                            image_width=8,\n",
    "                            n_estimators = 100,\n",
    "                           )\n",
    "\n",
    "# We learn the digits on the first half of the digits\n",
    "clf.fit(data[:n_samples // 2], digits.target[:n_samples // 2])"
   ]
  },
  {
   "cell_type": "code",
   "execution_count": 3,
   "metadata": {},
   "outputs": [
    {
     "name": "stdout",
     "output_type": "stream",
     "text": [
      "Classification report for classifier rerfClassifier(feature_combinations=1.5, image_height=8, image_width=8,\n",
      "               max_depth=None, max_features='auto', min_parent=1,\n",
      "               n_estimators=100, n_jobs=None, patch_height_max=None,\n",
      "               patch_height_min=1, patch_width_max=None, patch_width_min=1,\n",
      "               projection_matrix='S-RerF', random_state=None):\n",
      "              precision    recall  f1-score   support\n",
      "\n",
      "           0       1.00      0.98      0.99        88\n",
      "           1       0.95      0.82      0.88        91\n",
      "           2       0.96      0.87      0.91        86\n",
      "           3       0.85      0.87      0.86        91\n",
      "           4       0.94      0.91      0.93        92\n",
      "           5       0.81      0.93      0.87        91\n",
      "           6       0.94      0.99      0.96        91\n",
      "           7       0.94      0.96      0.95        89\n",
      "           8       0.91      0.84      0.88        88\n",
      "           9       0.85      0.95      0.90        92\n",
      "\n",
      "    accuracy                           0.91       899\n",
      "   macro avg       0.92      0.91      0.91       899\n",
      "weighted avg       0.92      0.91      0.91       899\n",
      "\n",
      "\n",
      "Confusion matrix:\n",
      "[[86  0  0  0  1  0  0  0  1  0]\n",
      " [ 0 75  0  2  0  3  0  1  1  9]\n",
      " [ 0  0 75 11  0  0  0  0  0  0]\n",
      " [ 0  0  3 79  0  4  0  2  2  1]\n",
      " [ 0  1  0  0 84  1  4  1  1  0]\n",
      " [ 0  0  0  0  2 85  2  0  0  2]\n",
      " [ 0  1  0  0  0  0 90  0  0  0]\n",
      " [ 0  0  0  0  2  0  0 85  1  1]\n",
      " [ 0  2  0  1  0  8  0  1 74  2]\n",
      " [ 0  0  0  0  0  4  0  0  1 87]]\n"
     ]
    },
    {
     "data": {
      "image/png": "[encoded data removed]",
      "text/plain": [
       "<Figure size 432x288 with 4 Axes>"
      ]
     },
     "metadata": {
      "needs_background": "light"
     },
     "output_type": "display_data"
    },
    {
     "name": "stdout",
     "output_type": "stream",
     "text": [
      "Score 0.9121245828698554\n"
     ]
    }
   ],
   "source": [
    "# Now predict the value of the digit on the second half:\n",
    "expected = digits.target[n_samples // 2:]\n",
    "predicted = clf.predict(data[n_samples // 2:])\n",
    "\n",
    "print(\"Classification report for classifier %s:\\n%s\\n\"\n",
    "      % (clf, metrics.classification_report(expected, predicted)))\n",
    "print(\"Confusion matrix:\\n%s\" % metrics.confusion_matrix(expected, predicted))\n",
    "\n",
    "images_and_predictions = list(zip(digits.images[n_samples // 2:], predicted))\n",
    "for index, (image, prediction) in enumerate(images_and_predictions[:4]):\n",
    "    plt.subplot(2, 4, index + 5)\n",
    "    plt.axis('off')\n",
    "    plt.imshow(image, cmap=plt.cm.gray_r, interpolation='nearest')\n",
    "    plt.title('Prediction: %i' % prediction)\n",
    "\n",
    "plt.show()\n",
    "\n",
    "print(\"Score\", clf.score(data[n_samples // 2:], expected))"
   ]
  }
 ],
 "metadata": {
  "kernelspec": {
   "display_name": "Python 3",
   "language": "python",
   "name": "python3"
  },
  "language_info": {
   "codemirror_mode": {
    "name": "ipython",
    "version": 3
   },
   "file_extension": ".py",
   "mimetype": "text/x-python",
   "name": "python",
   "nbconvert_exporter": "python",
   "pygments_lexer": "ipython3",
   "version": "3.7.3"
  }
 },
 "nbformat": 4,
 "nbformat_minor": 1
}
